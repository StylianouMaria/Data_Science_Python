{
 "cells": [
  {
   "cell_type": "markdown",
   "metadata": {},
   "source": [
    "# Pre-processing data\n",
    "\n",
    "### PA Women in Tech"
   ]
  },
  {
   "cell_type": "markdown",
   "metadata": {},
   "source": [
    "## Setting up the data\n",
    "\n",
    "Firstly, the libraries we need are imported. We'll import the data and fix the missing values (the same as the first exercises).\n",
    "\n",
    "We'll also use the `.head()` method to take a quick look at each dataset again!"
   ]
  },
  {
   "cell_type": "code",
   "execution_count": 1,
   "metadata": {},
   "outputs": [],
   "source": [
    "import numpy as np\n",
    "import pandas as pd"
   ]
  },
  {
   "cell_type": "code",
   "execution_count": 2,
   "metadata": {},
   "outputs": [],
   "source": [
    "df_races = pd.read_csv('racingData.csv', encoding='unicode_escape')\n",
    "df_horse_weights = pd.read_csv('horseWeights.csv', encoding='unicode_escape')"
   ]
  },
  {
   "cell_type": "code",
   "execution_count": 3,
   "metadata": {},
   "outputs": [
    {
     "data": {
      "text/html": [
       "<div>\n",
       "<style scoped>\n",
       "    .dataframe tbody tr th:only-of-type {\n",
       "        vertical-align: middle;\n",
       "    }\n",
       "\n",
       "    .dataframe tbody tr th {\n",
       "        vertical-align: top;\n",
       "    }\n",
       "\n",
       "    .dataframe thead th {\n",
       "        text-align: right;\n",
       "    }\n",
       "</style>\n",
       "<table border=\"1\" class=\"dataframe\">\n",
       "  <thead>\n",
       "    <tr style=\"text-align: right;\">\n",
       "      <th></th>\n",
       "      <th>race date</th>\n",
       "      <th>horse_name</th>\n",
       "      <th>position</th>\n",
       "      <th>horse_age</th>\n",
       "      <th>bha_rating</th>\n",
       "      <th>draw</th>\n",
       "      <th>trainer_name</th>\n",
       "      <th>jockey_name</th>\n",
       "      <th>prize money 1</th>\n",
       "      <th>course name</th>\n",
       "      <th>race_age</th>\n",
       "      <th>race_title</th>\n",
       "      <th>Qaurter</th>\n",
       "      <th>race distance</th>\n",
       "      <th>odds</th>\n",
       "    </tr>\n",
       "  </thead>\n",
       "  <tbody>\n",
       "    <tr>\n",
       "      <th>0</th>\n",
       "      <td>11/12/2018</td>\n",
       "      <td>Cousin Khee</td>\n",
       "      <td>3</td>\n",
       "      <td>11.0</td>\n",
       "      <td>69</td>\n",
       "      <td>2</td>\n",
       "      <td>Hughie Morrison</td>\n",
       "      <td>Charlie Bennett</td>\n",
       "      <td>3752</td>\n",
       "      <td>SOUTHWELL (A.W)</td>\n",
       "      <td>3YO+</td>\n",
       "      <td>BETWAY STAYERS HANDICAP (5)</td>\n",
       "      <td>3rd</td>\n",
       "      <td>16</td>\n",
       "      <td>0.142857</td>\n",
       "    </tr>\n",
       "    <tr>\n",
       "      <th>1</th>\n",
       "      <td>11/12/2018</td>\n",
       "      <td>Essential</td>\n",
       "      <td>8</td>\n",
       "      <td>4.0</td>\n",
       "      <td>60</td>\n",
       "      <td>9</td>\n",
       "      <td>Olly Williams</td>\n",
       "      <td>Luke Morris</td>\n",
       "      <td>3105</td>\n",
       "      <td>SOUTHWELL (A.W)</td>\n",
       "      <td>4YO+</td>\n",
       "      <td>BETWAY DASH HANDICAP (6)</td>\n",
       "      <td>3rd</td>\n",
       "      <td>6</td>\n",
       "      <td>0.142857</td>\n",
       "    </tr>\n",
       "    <tr>\n",
       "      <th>2</th>\n",
       "      <td>11/12/2018</td>\n",
       "      <td>The Right Choice</td>\n",
       "      <td>4</td>\n",
       "      <td>3.0</td>\n",
       "      <td>69</td>\n",
       "      <td>6</td>\n",
       "      <td>Richard Fahey</td>\n",
       "      <td>Tony Hamilton</td>\n",
       "      <td>3752</td>\n",
       "      <td>SOUTHWELL (A.W)</td>\n",
       "      <td>3YO+</td>\n",
       "      <td>SUNRACING.CO.UK HANDICAP (DIV II) (5)</td>\n",
       "      <td>3rd</td>\n",
       "      <td>8</td>\n",
       "      <td>0.090909</td>\n",
       "    </tr>\n",
       "    <tr>\n",
       "      <th>3</th>\n",
       "      <td>11/12/2018</td>\n",
       "      <td>Argon</td>\n",
       "      <td>7</td>\n",
       "      <td>3.0</td>\n",
       "      <td>43</td>\n",
       "      <td>5</td>\n",
       "      <td>Noel Wilson</td>\n",
       "      <td>Andrew Mullen</td>\n",
       "      <td>3752</td>\n",
       "      <td>SOUTHWELL (A.W)</td>\n",
       "      <td>3YO+</td>\n",
       "      <td>BETWAY NOVICE STAKES (5)</td>\n",
       "      <td>3rd</td>\n",
       "      <td>5</td>\n",
       "      <td>0.020000</td>\n",
       "    </tr>\n",
       "    <tr>\n",
       "      <th>4</th>\n",
       "      <td>11/12/2018</td>\n",
       "      <td>Via Delle Volte</td>\n",
       "      <td>6</td>\n",
       "      <td>3.0</td>\n",
       "      <td>65</td>\n",
       "      <td>14</td>\n",
       "      <td>Joseph Tuite</td>\n",
       "      <td>Luke Morris</td>\n",
       "      <td>3752</td>\n",
       "      <td>SOUTHWELL (A.W)</td>\n",
       "      <td>3YO+</td>\n",
       "      <td>BETWAY STAYERS HANDICAP (5)</td>\n",
       "      <td>3rd</td>\n",
       "      <td>16</td>\n",
       "      <td>0.111111</td>\n",
       "    </tr>\n",
       "  </tbody>\n",
       "</table>\n",
       "</div>"
      ],
      "text/plain": [
       "    race date        horse_name  position  horse_age  bha_rating  draw  \\\n",
       "0  11/12/2018       Cousin Khee         3       11.0          69     2   \n",
       "1  11/12/2018         Essential         8        4.0          60     9   \n",
       "2  11/12/2018  The Right Choice         4        3.0          69     6   \n",
       "3  11/12/2018             Argon         7        3.0          43     5   \n",
       "4  11/12/2018   Via Delle Volte         6        3.0          65    14   \n",
       "\n",
       "      trainer_name      jockey_name  prize money 1      course name race_age  \\\n",
       "0  Hughie Morrison  Charlie Bennett           3752  SOUTHWELL (A.W)     3YO+   \n",
       "1    Olly Williams      Luke Morris           3105  SOUTHWELL (A.W)     4YO+   \n",
       "2    Richard Fahey    Tony Hamilton           3752  SOUTHWELL (A.W)     3YO+   \n",
       "3      Noel Wilson    Andrew Mullen           3752  SOUTHWELL (A.W)     3YO+   \n",
       "4     Joseph Tuite      Luke Morris           3752  SOUTHWELL (A.W)     3YO+   \n",
       "\n",
       "                              race_title Qaurter  race distance      odds  \n",
       "0            BETWAY STAYERS HANDICAP (5)     3rd             16  0.142857  \n",
       "1               BETWAY DASH HANDICAP (6)     3rd              6  0.142857  \n",
       "2  SUNRACING.CO.UK HANDICAP (DIV II) (5)     3rd              8  0.090909  \n",
       "3               BETWAY NOVICE STAKES (5)     3rd              5  0.020000  \n",
       "4            BETWAY STAYERS HANDICAP (5)     3rd             16  0.111111  "
      ]
     },
     "execution_count": 3,
     "metadata": {},
     "output_type": "execute_result"
    }
   ],
   "source": [
    "df_races.head()"
   ]
  },
  {
   "cell_type": "code",
   "execution_count": 5,
   "metadata": {},
   "outputs": [
    {
     "data": {
      "text/html": [
       "<div>\n",
       "<style scoped>\n",
       "    .dataframe tbody tr th:only-of-type {\n",
       "        vertical-align: middle;\n",
       "    }\n",
       "\n",
       "    .dataframe tbody tr th {\n",
       "        vertical-align: top;\n",
       "    }\n",
       "\n",
       "    .dataframe thead th {\n",
       "        text-align: right;\n",
       "    }\n",
       "</style>\n",
       "<table border=\"1\" class=\"dataframe\">\n",
       "  <thead>\n",
       "    <tr style=\"text-align: right;\">\n",
       "      <th></th>\n",
       "      <th>horse_name</th>\n",
       "      <th>horse_weight</th>\n",
       "    </tr>\n",
       "  </thead>\n",
       "  <tbody>\n",
       "    <tr>\n",
       "      <th>0</th>\n",
       "      <td>Cousin Khee</td>\n",
       "      <td>132</td>\n",
       "    </tr>\n",
       "    <tr>\n",
       "      <th>1</th>\n",
       "      <td>Essential</td>\n",
       "      <td>128</td>\n",
       "    </tr>\n",
       "    <tr>\n",
       "      <th>2</th>\n",
       "      <td>The Right Choice</td>\n",
       "      <td>126</td>\n",
       "    </tr>\n",
       "    <tr>\n",
       "      <th>3</th>\n",
       "      <td>Argon</td>\n",
       "      <td>124</td>\n",
       "    </tr>\n",
       "    <tr>\n",
       "      <th>4</th>\n",
       "      <td>Via Delle Volte</td>\n",
       "      <td>123</td>\n",
       "    </tr>\n",
       "  </tbody>\n",
       "</table>\n",
       "</div>"
      ],
      "text/plain": [
       "         horse_name  horse_weight\n",
       "0       Cousin Khee           132\n",
       "1         Essential           128\n",
       "2  The Right Choice           126\n",
       "3             Argon           124\n",
       "4   Via Delle Volte           123"
      ]
     },
     "execution_count": 5,
     "metadata": {},
     "output_type": "execute_result"
    }
   ],
   "source": [
    "df_horse_weights.head()\n"
   ]
  },
  {
   "cell_type": "code",
   "execution_count": 6,
   "metadata": {},
   "outputs": [],
   "source": [
    "# Dropping rows with empty horse names\n",
    "df_races = df_races.dropna(subset=[\"horse_name\"])\n",
    "\n",
    "# Filling missing horse ages with the mean horse age\n",
    "mean_age = round(df_races[\"horse_age\"].dropna().mean(), 0)\n",
    "df_races[\"horse_age\"] = df_races[\"horse_age\"].fillna(mean_age)"
   ]
  },
  {
   "cell_type": "markdown",
   "metadata": {},
   "source": [
    "## Joining the dataframes"
   ]
  },
  {
   "cell_type": "markdown",
   "metadata": {},
   "source": [
    "In this section, we will join the two dataframes together. We can see that they each have a common column called `horse_name`.\n",
    "\n",
    "To check the data type of each column in a dataframe, we can access the `dtypes` property:"
   ]
  },
  {
   "cell_type": "code",
   "execution_count": 7,
   "metadata": {},
   "outputs": [
    {
     "data": {
      "text/plain": [
       "race date         object\n",
       "horse_name        object\n",
       "position           int64\n",
       "horse_age        float64\n",
       "bha_rating         int64\n",
       "draw               int64\n",
       "trainer_name      object\n",
       "jockey_name       object\n",
       "prize money 1      int64\n",
       "course name       object\n",
       "race_age          object\n",
       "race_title        object\n",
       "Qaurter           object\n",
       "race distance      int64\n",
       "odds             float64\n",
       "dtype: object"
      ]
     },
     "execution_count": 7,
     "metadata": {},
     "output_type": "execute_result"
    }
   ],
   "source": [
    "#check that both columns are the same type\n",
    "df_races.dtypes\n"
   ]
  },
  {
   "cell_type": "markdown",
   "metadata": {},
   "source": [
    "Here we can see that the text attributes get loaded in as a generic 'object' type by pandas. This includes the `horse_name` column. There is some more detail on handling text data with pandas [here](https://pandas.pydata.org/docs/user_guide/text.html).\n",
    "\n",
    "To join the dataframes on this column, we need to convert this column into a string format. We do this below with the `.astype()` method.\n",
    "\n",
    "Note: when creating our dataframe, we also could have specified to import the text columns as strings by using the keyword argument `dtype=\"string\"`"
   ]
  },
  {
   "cell_type": "code",
   "execution_count": 8,
   "metadata": {},
   "outputs": [],
   "source": [
    "df_races[\"horse_name\"] = df_races[\"horse_name\"].astype(str)\n",
    "df_horse_weights[\"horse_name\"] = df_horse_weights[\"horse_name\"].astype(str)\n",
    "\n"
   ]
  },
  {
   "cell_type": "code",
   "execution_count": 9,
   "metadata": {},
   "outputs": [
    {
     "data": {
      "text/plain": [
       "horse_name      object\n",
       "horse_weight     int64\n",
       "dtype: object"
      ]
     },
     "execution_count": 9,
     "metadata": {},
     "output_type": "execute_result"
    }
   ],
   "source": [
    "df_horse_weights.dtypes\n"
   ]
  },
  {
   "cell_type": "markdown",
   "metadata": {},
   "source": [
    "1a. Join the two dataframes on the `horse_name` column, creating a new dataframe"
   ]
  },
  {
   "cell_type": "code",
   "execution_count": 10,
   "metadata": {},
   "outputs": [
    {
     "data": {
      "text/plain": [
       "(1815, 16)"
      ]
     },
     "execution_count": 10,
     "metadata": {},
     "output_type": "execute_result"
    }
   ],
   "source": [
    "#need to put them in the right order\n",
    "#df3=pd.merge(df1,df2, on=\"course\", how=\"outer\") outer=everything, inner=only common ones, left=common and left, right=common and right\n",
    "df_horse_race_join= pd.merge(df_races,df_horse_weights, how=\"left\", on=[\"horse_name\"])\n",
    "df_horse_race_join.shape"
   ]
  },
  {
   "cell_type": "markdown",
   "metadata": {},
   "source": [
    "1b. Show the first five rows of the merged dataframe"
   ]
  },
  {
   "cell_type": "code",
   "execution_count": 11,
   "metadata": {
    "scrolled": true
   },
   "outputs": [
    {
     "data": {
      "text/html": [
       "<div>\n",
       "<style scoped>\n",
       "    .dataframe tbody tr th:only-of-type {\n",
       "        vertical-align: middle;\n",
       "    }\n",
       "\n",
       "    .dataframe tbody tr th {\n",
       "        vertical-align: top;\n",
       "    }\n",
       "\n",
       "    .dataframe thead th {\n",
       "        text-align: right;\n",
       "    }\n",
       "</style>\n",
       "<table border=\"1\" class=\"dataframe\">\n",
       "  <thead>\n",
       "    <tr style=\"text-align: right;\">\n",
       "      <th></th>\n",
       "      <th>race date</th>\n",
       "      <th>horse_name</th>\n",
       "      <th>position</th>\n",
       "      <th>horse_age</th>\n",
       "      <th>bha_rating</th>\n",
       "      <th>draw</th>\n",
       "      <th>trainer_name</th>\n",
       "      <th>jockey_name</th>\n",
       "      <th>prize money 1</th>\n",
       "      <th>course name</th>\n",
       "      <th>race_age</th>\n",
       "      <th>race_title</th>\n",
       "      <th>Qaurter</th>\n",
       "      <th>race distance</th>\n",
       "      <th>odds</th>\n",
       "      <th>horse_weight</th>\n",
       "    </tr>\n",
       "  </thead>\n",
       "  <tbody>\n",
       "    <tr>\n",
       "      <th>0</th>\n",
       "      <td>11/12/2018</td>\n",
       "      <td>Cousin Khee</td>\n",
       "      <td>3</td>\n",
       "      <td>11.0</td>\n",
       "      <td>69</td>\n",
       "      <td>2</td>\n",
       "      <td>Hughie Morrison</td>\n",
       "      <td>Charlie Bennett</td>\n",
       "      <td>3752</td>\n",
       "      <td>SOUTHWELL (A.W)</td>\n",
       "      <td>3YO+</td>\n",
       "      <td>BETWAY STAYERS HANDICAP (5)</td>\n",
       "      <td>3rd</td>\n",
       "      <td>16</td>\n",
       "      <td>0.142857</td>\n",
       "      <td>132</td>\n",
       "    </tr>\n",
       "    <tr>\n",
       "      <th>1</th>\n",
       "      <td>11/12/2018</td>\n",
       "      <td>Essential</td>\n",
       "      <td>8</td>\n",
       "      <td>4.0</td>\n",
       "      <td>60</td>\n",
       "      <td>9</td>\n",
       "      <td>Olly Williams</td>\n",
       "      <td>Luke Morris</td>\n",
       "      <td>3105</td>\n",
       "      <td>SOUTHWELL (A.W)</td>\n",
       "      <td>4YO+</td>\n",
       "      <td>BETWAY DASH HANDICAP (6)</td>\n",
       "      <td>3rd</td>\n",
       "      <td>6</td>\n",
       "      <td>0.142857</td>\n",
       "      <td>128</td>\n",
       "    </tr>\n",
       "    <tr>\n",
       "      <th>2</th>\n",
       "      <td>11/12/2018</td>\n",
       "      <td>The Right Choice</td>\n",
       "      <td>4</td>\n",
       "      <td>3.0</td>\n",
       "      <td>69</td>\n",
       "      <td>6</td>\n",
       "      <td>Richard Fahey</td>\n",
       "      <td>Tony Hamilton</td>\n",
       "      <td>3752</td>\n",
       "      <td>SOUTHWELL (A.W)</td>\n",
       "      <td>3YO+</td>\n",
       "      <td>SUNRACING.CO.UK HANDICAP (DIV II) (5)</td>\n",
       "      <td>3rd</td>\n",
       "      <td>8</td>\n",
       "      <td>0.090909</td>\n",
       "      <td>126</td>\n",
       "    </tr>\n",
       "    <tr>\n",
       "      <th>3</th>\n",
       "      <td>11/12/2018</td>\n",
       "      <td>Argon</td>\n",
       "      <td>7</td>\n",
       "      <td>3.0</td>\n",
       "      <td>43</td>\n",
       "      <td>5</td>\n",
       "      <td>Noel Wilson</td>\n",
       "      <td>Andrew Mullen</td>\n",
       "      <td>3752</td>\n",
       "      <td>SOUTHWELL (A.W)</td>\n",
       "      <td>3YO+</td>\n",
       "      <td>BETWAY NOVICE STAKES (5)</td>\n",
       "      <td>3rd</td>\n",
       "      <td>5</td>\n",
       "      <td>0.020000</td>\n",
       "      <td>124</td>\n",
       "    </tr>\n",
       "    <tr>\n",
       "      <th>4</th>\n",
       "      <td>11/12/2018</td>\n",
       "      <td>Via Delle Volte</td>\n",
       "      <td>6</td>\n",
       "      <td>3.0</td>\n",
       "      <td>65</td>\n",
       "      <td>14</td>\n",
       "      <td>Joseph Tuite</td>\n",
       "      <td>Luke Morris</td>\n",
       "      <td>3752</td>\n",
       "      <td>SOUTHWELL (A.W)</td>\n",
       "      <td>3YO+</td>\n",
       "      <td>BETWAY STAYERS HANDICAP (5)</td>\n",
       "      <td>3rd</td>\n",
       "      <td>16</td>\n",
       "      <td>0.111111</td>\n",
       "      <td>123</td>\n",
       "    </tr>\n",
       "  </tbody>\n",
       "</table>\n",
       "</div>"
      ],
      "text/plain": [
       "    race date        horse_name  position  horse_age  bha_rating  draw  \\\n",
       "0  11/12/2018       Cousin Khee         3       11.0          69     2   \n",
       "1  11/12/2018         Essential         8        4.0          60     9   \n",
       "2  11/12/2018  The Right Choice         4        3.0          69     6   \n",
       "3  11/12/2018             Argon         7        3.0          43     5   \n",
       "4  11/12/2018   Via Delle Volte         6        3.0          65    14   \n",
       "\n",
       "      trainer_name      jockey_name  prize money 1      course name race_age  \\\n",
       "0  Hughie Morrison  Charlie Bennett           3752  SOUTHWELL (A.W)     3YO+   \n",
       "1    Olly Williams      Luke Morris           3105  SOUTHWELL (A.W)     4YO+   \n",
       "2    Richard Fahey    Tony Hamilton           3752  SOUTHWELL (A.W)     3YO+   \n",
       "3      Noel Wilson    Andrew Mullen           3752  SOUTHWELL (A.W)     3YO+   \n",
       "4     Joseph Tuite      Luke Morris           3752  SOUTHWELL (A.W)     3YO+   \n",
       "\n",
       "                              race_title Qaurter  race distance      odds  \\\n",
       "0            BETWAY STAYERS HANDICAP (5)     3rd             16  0.142857   \n",
       "1               BETWAY DASH HANDICAP (6)     3rd              6  0.142857   \n",
       "2  SUNRACING.CO.UK HANDICAP (DIV II) (5)     3rd              8  0.090909   \n",
       "3               BETWAY NOVICE STAKES (5)     3rd              5  0.020000   \n",
       "4            BETWAY STAYERS HANDICAP (5)     3rd             16  0.111111   \n",
       "\n",
       "   horse_weight  \n",
       "0           132  \n",
       "1           128  \n",
       "2           126  \n",
       "3           124  \n",
       "4           123  "
      ]
     },
     "execution_count": 11,
     "metadata": {},
     "output_type": "execute_result"
    }
   ],
   "source": [
    "df_horse_race_join.head(5)"
   ]
  },
  {
   "cell_type": "markdown",
   "metadata": {},
   "source": [
    "## Test and training data"
   ]
  },
  {
   "cell_type": "markdown",
   "metadata": {},
   "source": [
    "One use for this dataset might be to create a model that predicts the position in a race of a horse based on its attributes, such as horse age or weight.\n",
    "\n",
    "The `position` column here is the _dependent_ variable. This is the outcome, or output.\n",
    "\n",
    "The other columns are the _independent_ variables. These are attributes that may contribute to the output (e.g. horse weight) - the input."
   ]
  },
  {
   "cell_type": "markdown",
   "metadata": {},
   "source": [
    "2a. Produce new variables, `X` and `y`, which consist of the dependent and independent variables respectively."
   ]
  },
  {
   "cell_type": "code",
   "execution_count": 12,
   "metadata": {},
   "outputs": [],
   "source": [
    "#split depended independed\n",
    "#X capital = depended , y = independent variable\n",
    "X= df_horse_race_join.drop(columns=[\"position\"])\n",
    "y= df_horse_race_join[\"position\"]\n",
    "\n"
   ]
  },
  {
   "cell_type": "code",
   "execution_count": 13,
   "metadata": {},
   "outputs": [
    {
     "data": {
      "text/plain": [
       "0    3\n",
       "1    8\n",
       "2    4\n",
       "3    7\n",
       "4    6\n",
       "Name: position, dtype: int64"
      ]
     },
     "execution_count": 13,
     "metadata": {},
     "output_type": "execute_result"
    }
   ],
   "source": [
    "y.head(\n",
    ")"
   ]
  },
  {
   "cell_type": "markdown",
   "metadata": {},
   "source": [
    "If we wanted to use this data to create a prediction model as mentioned previously, we would want a way to test its performance - how well does it predict the outcome race positions?\n",
    "\n",
    "To do this, we can split our data into test and train sets. We could then use the training data to train our model, and use the test data to test the performance of our model - this is unseen data which the model has not seen yet.\n",
    "\n",
    "2b. Produce the train and test datasets from the `X` and `y` data, with 70% of the data being used for training\n",
    "\n",
    "Hint: remember to do the necessary scikit-learn import first"
   ]
  },
  {
   "cell_type": "code",
   "execution_count": 14,
   "metadata": {},
   "outputs": [],
   "source": [
    "from sklearn.model_selection import train_test_split"
   ]
  },
  {
   "cell_type": "code",
   "execution_count": 15,
   "metadata": {},
   "outputs": [],
   "source": [
    "X_train, X_test, y_train, y_test= train_test_split(X,y,test_size=0.3, random_state=1)\n",
    "\n"
   ]
  },
  {
   "cell_type": "markdown",
   "metadata": {},
   "source": [
    "2c. Look at the shapes of the resulting `X` and `y` train and test sets"
   ]
  },
  {
   "cell_type": "code",
   "execution_count": 16,
   "metadata": {},
   "outputs": [
    {
     "data": {
      "text/plain": [
       "(1270, 15)"
      ]
     },
     "execution_count": 16,
     "metadata": {},
     "output_type": "execute_result"
    }
   ],
   "source": [
    "X_train.shape"
   ]
  },
  {
   "cell_type": "code",
   "execution_count": 17,
   "metadata": {},
   "outputs": [
    {
     "data": {
      "text/plain": [
       "(545, 15)"
      ]
     },
     "execution_count": 17,
     "metadata": {},
     "output_type": "execute_result"
    }
   ],
   "source": [
    "X_test.shape"
   ]
  },
  {
   "cell_type": "code",
   "execution_count": 18,
   "metadata": {},
   "outputs": [
    {
     "data": {
      "text/plain": [
       "(1270,)"
      ]
     },
     "execution_count": 18,
     "metadata": {},
     "output_type": "execute_result"
    }
   ],
   "source": [
    "y_train.shape"
   ]
  },
  {
   "cell_type": "code",
   "execution_count": 19,
   "metadata": {},
   "outputs": [
    {
     "data": {
      "text/plain": [
       "(545,)"
      ]
     },
     "execution_count": 19,
     "metadata": {},
     "output_type": "execute_result"
    }
   ],
   "source": [
    "y_test.shape"
   ]
  },
  {
   "cell_type": "code",
   "execution_count": null,
   "metadata": {},
   "outputs": [],
   "source": []
  },
  {
   "cell_type": "markdown",
   "metadata": {},
   "source": [
    "2d. Investigate the effect of the `random_state` keyword argument, by running the function to create the test & train split multiple times and checking the first few lines of the resulting dataframe for each:\n",
    "* Try setting `random_state` as an integer\n",
    "* Try removing `random_state`\n",
    "\n",
    "Based on these results, what do you think the `random_state` argument does?"
   ]
  },
  {
   "cell_type": "code",
   "execution_count": 20,
   "metadata": {},
   "outputs": [
    {
     "data": {
      "text/html": [
       "<div>\n",
       "<style scoped>\n",
       "    .dataframe tbody tr th:only-of-type {\n",
       "        vertical-align: middle;\n",
       "    }\n",
       "\n",
       "    .dataframe tbody tr th {\n",
       "        vertical-align: top;\n",
       "    }\n",
       "\n",
       "    .dataframe thead th {\n",
       "        text-align: right;\n",
       "    }\n",
       "</style>\n",
       "<table border=\"1\" class=\"dataframe\">\n",
       "  <thead>\n",
       "    <tr style=\"text-align: right;\">\n",
       "      <th></th>\n",
       "      <th>race date</th>\n",
       "      <th>horse_name</th>\n",
       "      <th>horse_age</th>\n",
       "      <th>bha_rating</th>\n",
       "      <th>draw</th>\n",
       "      <th>trainer_name</th>\n",
       "      <th>jockey_name</th>\n",
       "      <th>prize money 1</th>\n",
       "      <th>course name</th>\n",
       "      <th>race_age</th>\n",
       "      <th>race_title</th>\n",
       "      <th>Qaurter</th>\n",
       "      <th>race distance</th>\n",
       "      <th>odds</th>\n",
       "      <th>horse_weight</th>\n",
       "    </tr>\n",
       "  </thead>\n",
       "  <tbody>\n",
       "    <tr>\n",
       "      <th>1328</th>\n",
       "      <td>05/12/2018</td>\n",
       "      <td>Star Attraction</td>\n",
       "      <td>3.0</td>\n",
       "      <td>0</td>\n",
       "      <td>8</td>\n",
       "      <td>David Menuisier</td>\n",
       "      <td>Richard Kingscote</td>\n",
       "      <td>3752</td>\n",
       "      <td>LINGFIELD</td>\n",
       "      <td>3YO+</td>\n",
       "      <td>BETFRED \"TREBLE ODDS ON LUCKY 15'S\" FILLIES' N...</td>\n",
       "      <td>1st</td>\n",
       "      <td>6</td>\n",
       "      <td>0.040000</td>\n",
       "      <td>131</td>\n",
       "    </tr>\n",
       "    <tr>\n",
       "      <th>1499</th>\n",
       "      <td>04/12/2018</td>\n",
       "      <td>Decision Maker</td>\n",
       "      <td>4.0</td>\n",
       "      <td>69</td>\n",
       "      <td>6</td>\n",
       "      <td>Roy Bowring</td>\n",
       "      <td>Eoin Walsh</td>\n",
       "      <td>3752</td>\n",
       "      <td>SOUTHWELL (A.W)</td>\n",
       "      <td>4YO+</td>\n",
       "      <td>TOTEQUADPOT HANDICAP (5)</td>\n",
       "      <td>1st</td>\n",
       "      <td>5</td>\n",
       "      <td>0.071429</td>\n",
       "      <td>125</td>\n",
       "    </tr>\n",
       "    <tr>\n",
       "      <th>1281</th>\n",
       "      <td>05/12/2018</td>\n",
       "      <td>Ready</td>\n",
       "      <td>4.0</td>\n",
       "      <td>63</td>\n",
       "      <td>4</td>\n",
       "      <td>Mark Pattinson</td>\n",
       "      <td>Kieren Fox</td>\n",
       "      <td>3105</td>\n",
       "      <td>LINGFIELD</td>\n",
       "      <td>4YO+</td>\n",
       "      <td>BETFRED \"FOLLOW US ON TWITTER\" HANDICAP (DIV I...</td>\n",
       "      <td>1st</td>\n",
       "      <td>10</td>\n",
       "      <td>0.083333</td>\n",
       "      <td>131</td>\n",
       "    </tr>\n",
       "    <tr>\n",
       "      <th>874</th>\n",
       "      <td>07/12/2018</td>\n",
       "      <td>Jawwaal</td>\n",
       "      <td>3.0</td>\n",
       "      <td>89</td>\n",
       "      <td>13</td>\n",
       "      <td>John Gosden</td>\n",
       "      <td>Andrea Atzeni</td>\n",
       "      <td>62250</td>\n",
       "      <td>NEWMARKET (JULY)</td>\n",
       "      <td>3YO</td>\n",
       "      <td>BET365 HANDICAP (2)</td>\n",
       "      <td>2nd</td>\n",
       "      <td>6</td>\n",
       "      <td>0.142857</td>\n",
       "      <td>121</td>\n",
       "    </tr>\n",
       "    <tr>\n",
       "      <th>1553</th>\n",
       "      <td>04/12/2018</td>\n",
       "      <td>Crosse Fire</td>\n",
       "      <td>6.0</td>\n",
       "      <td>79</td>\n",
       "      <td>1</td>\n",
       "      <td>Scott Dixon</td>\n",
       "      <td>Luke Morris</td>\n",
       "      <td>5531</td>\n",
       "      <td>SOUTHWELL (A.W)</td>\n",
       "      <td>3YO+</td>\n",
       "      <td>TOTETRIFECTA HANDICAP (4)</td>\n",
       "      <td>1st</td>\n",
       "      <td>6</td>\n",
       "      <td>0.100000</td>\n",
       "      <td>123</td>\n",
       "    </tr>\n",
       "  </tbody>\n",
       "</table>\n",
       "</div>"
      ],
      "text/plain": [
       "       race date       horse_name  horse_age  bha_rating  draw  \\\n",
       "1328  05/12/2018  Star Attraction        3.0           0     8   \n",
       "1499  04/12/2018   Decision Maker        4.0          69     6   \n",
       "1281  05/12/2018            Ready        4.0          63     4   \n",
       "874   07/12/2018          Jawwaal        3.0          89    13   \n",
       "1553  04/12/2018      Crosse Fire        6.0          79     1   \n",
       "\n",
       "         trainer_name        jockey_name  prize money 1       course name  \\\n",
       "1328  David Menuisier  Richard Kingscote           3752         LINGFIELD   \n",
       "1499      Roy Bowring         Eoin Walsh           3752   SOUTHWELL (A.W)   \n",
       "1281   Mark Pattinson         Kieren Fox           3105         LINGFIELD   \n",
       "874       John Gosden      Andrea Atzeni          62250  NEWMARKET (JULY)   \n",
       "1553      Scott Dixon        Luke Morris           5531   SOUTHWELL (A.W)   \n",
       "\n",
       "     race_age                                         race_title Qaurter  \\\n",
       "1328     3YO+  BETFRED \"TREBLE ODDS ON LUCKY 15'S\" FILLIES' N...     1st   \n",
       "1499     4YO+                           TOTEQUADPOT HANDICAP (5)     1st   \n",
       "1281     4YO+  BETFRED \"FOLLOW US ON TWITTER\" HANDICAP (DIV I...     1st   \n",
       "874       3YO                                BET365 HANDICAP (2)     2nd   \n",
       "1553     3YO+                          TOTETRIFECTA HANDICAP (4)     1st   \n",
       "\n",
       "      race distance      odds  horse_weight  \n",
       "1328              6  0.040000           131  \n",
       "1499              5  0.071429           125  \n",
       "1281             10  0.083333           131  \n",
       "874               6  0.142857           121  \n",
       "1553              6  0.100000           123  "
      ]
     },
     "execution_count": 20,
     "metadata": {},
     "output_type": "execute_result"
    }
   ],
   "source": [
    "# Running this twice, you should see the same values in the first five rows both times\n",
    "X_train, X_test, y_train, y_test= train_test_split(X,y,test_size=0.3, random_state=1)\n",
    "X_train.head()"
   ]
  },
  {
   "cell_type": "code",
   "execution_count": 21,
   "metadata": {},
   "outputs": [],
   "source": [
    "# Running this twice, you should see different values in the first five rows each time\n"
   ]
  },
  {
   "cell_type": "markdown",
   "metadata": {},
   "source": [
    "`random_state` controls the shuffling applied to the data before applying the split. You can pass an integer for reproducible output across multiple function calls. If you omit the argument completely, you will get randomised results (with regards to shuffling and how your data gets split up) each time."
   ]
  },
  {
   "cell_type": "markdown",
   "metadata": {},
   "source": [
    "## Normalising and standardising data"
   ]
  },
  {
   "cell_type": "markdown",
   "metadata": {},
   "source": [
    "3a. Normalise the horse weights in the train and test dataframes\n",
    "\n",
    "Hint: remember to do the necessary scikit-learn import first"
   ]
  },
  {
   "cell_type": "code",
   "execution_count": 22,
   "metadata": {},
   "outputs": [],
   "source": [
    "#before standarizing verify that u have a normmal distribution. if binomial distribution not good idea to standarize\n",
    "from sklearn.preprocessing import MinMaxScaler\n",
    "\n",
    "min_max_scaler= MinMaxScaler()\n",
    "\n",
    "min_max_scaler.fit(X_train[[\"horse_weight\"]])\n",
    "\n",
    "X_train[[\"horse_weight\"]]= min_max_scaler.transform(X_train[[\"horse_weight\"]])\n",
    "X_test[[\"horse_weight\"]]= min_max_scaler.transform(X_test[[\"horse_weight\"]])"
   ]
  },
  {
   "cell_type": "markdown",
   "metadata": {},
   "source": [
    "3b. Standardise the BHA ratings in the dataframes\n",
    "\n",
    "Hint: remember to do the necessary scikit-learn import first"
   ]
  },
  {
   "cell_type": "code",
   "execution_count": 23,
   "metadata": {},
   "outputs": [],
   "source": [
    "from sklearn.preprocessing import StandardScaler\n",
    "\n",
    "scaler= StandardScaler()\n",
    "\n",
    "scaler.fit(X_train[[\"bha_rating\"]])\n",
    "\n",
    "X_train[[\"bha_rating\"]]= scaler.transform(X_train[[\"bha_rating\"]])\n",
    "X_test[[\"bha_rating\"]]= scaler.transform(X_test[[\"bha_rating\"]])"
   ]
  },
  {
   "cell_type": "markdown",
   "metadata": {},
   "source": [
    "3c. Show the first five rows of the updated train and test dataframes"
   ]
  },
  {
   "cell_type": "code",
   "execution_count": 24,
   "metadata": {},
   "outputs": [
    {
     "data": {
      "text/html": [
       "<div>\n",
       "<style scoped>\n",
       "    .dataframe tbody tr th:only-of-type {\n",
       "        vertical-align: middle;\n",
       "    }\n",
       "\n",
       "    .dataframe tbody tr th {\n",
       "        vertical-align: top;\n",
       "    }\n",
       "\n",
       "    .dataframe thead th {\n",
       "        text-align: right;\n",
       "    }\n",
       "</style>\n",
       "<table border=\"1\" class=\"dataframe\">\n",
       "  <thead>\n",
       "    <tr style=\"text-align: right;\">\n",
       "      <th></th>\n",
       "      <th>race date</th>\n",
       "      <th>horse_name</th>\n",
       "      <th>horse_age</th>\n",
       "      <th>bha_rating</th>\n",
       "      <th>draw</th>\n",
       "      <th>trainer_name</th>\n",
       "      <th>jockey_name</th>\n",
       "      <th>prize money 1</th>\n",
       "      <th>course name</th>\n",
       "      <th>race_age</th>\n",
       "      <th>race_title</th>\n",
       "      <th>Qaurter</th>\n",
       "      <th>race distance</th>\n",
       "      <th>odds</th>\n",
       "      <th>horse_weight</th>\n",
       "    </tr>\n",
       "  </thead>\n",
       "  <tbody>\n",
       "    <tr>\n",
       "      <th>1328</th>\n",
       "      <td>05/12/2018</td>\n",
       "      <td>Star Attraction</td>\n",
       "      <td>3.0</td>\n",
       "      <td>-1.772146</td>\n",
       "      <td>8</td>\n",
       "      <td>David Menuisier</td>\n",
       "      <td>Richard Kingscote</td>\n",
       "      <td>3752</td>\n",
       "      <td>LINGFIELD</td>\n",
       "      <td>3YO+</td>\n",
       "      <td>BETFRED \"TREBLE ODDS ON LUCKY 15'S\" FILLIES' N...</td>\n",
       "      <td>1st</td>\n",
       "      <td>6</td>\n",
       "      <td>0.040000</td>\n",
       "      <td>0.468085</td>\n",
       "    </tr>\n",
       "    <tr>\n",
       "      <th>1499</th>\n",
       "      <td>04/12/2018</td>\n",
       "      <td>Decision Maker</td>\n",
       "      <td>4.0</td>\n",
       "      <td>0.370331</td>\n",
       "      <td>6</td>\n",
       "      <td>Roy Bowring</td>\n",
       "      <td>Eoin Walsh</td>\n",
       "      <td>3752</td>\n",
       "      <td>SOUTHWELL (A.W)</td>\n",
       "      <td>4YO+</td>\n",
       "      <td>TOTEQUADPOT HANDICAP (5)</td>\n",
       "      <td>1st</td>\n",
       "      <td>5</td>\n",
       "      <td>0.071429</td>\n",
       "      <td>0.340426</td>\n",
       "    </tr>\n",
       "    <tr>\n",
       "      <th>1281</th>\n",
       "      <td>05/12/2018</td>\n",
       "      <td>Ready</td>\n",
       "      <td>4.0</td>\n",
       "      <td>0.184029</td>\n",
       "      <td>4</td>\n",
       "      <td>Mark Pattinson</td>\n",
       "      <td>Kieren Fox</td>\n",
       "      <td>3105</td>\n",
       "      <td>LINGFIELD</td>\n",
       "      <td>4YO+</td>\n",
       "      <td>BETFRED \"FOLLOW US ON TWITTER\" HANDICAP (DIV I...</td>\n",
       "      <td>1st</td>\n",
       "      <td>10</td>\n",
       "      <td>0.083333</td>\n",
       "      <td>0.468085</td>\n",
       "    </tr>\n",
       "    <tr>\n",
       "      <th>874</th>\n",
       "      <td>07/12/2018</td>\n",
       "      <td>Jawwaal</td>\n",
       "      <td>3.0</td>\n",
       "      <td>0.991339</td>\n",
       "      <td>13</td>\n",
       "      <td>John Gosden</td>\n",
       "      <td>Andrea Atzeni</td>\n",
       "      <td>62250</td>\n",
       "      <td>NEWMARKET (JULY)</td>\n",
       "      <td>3YO</td>\n",
       "      <td>BET365 HANDICAP (2)</td>\n",
       "      <td>2nd</td>\n",
       "      <td>6</td>\n",
       "      <td>0.142857</td>\n",
       "      <td>0.255319</td>\n",
       "    </tr>\n",
       "    <tr>\n",
       "      <th>1553</th>\n",
       "      <td>04/12/2018</td>\n",
       "      <td>Crosse Fire</td>\n",
       "      <td>6.0</td>\n",
       "      <td>0.680835</td>\n",
       "      <td>1</td>\n",
       "      <td>Scott Dixon</td>\n",
       "      <td>Luke Morris</td>\n",
       "      <td>5531</td>\n",
       "      <td>SOUTHWELL (A.W)</td>\n",
       "      <td>3YO+</td>\n",
       "      <td>TOTETRIFECTA HANDICAP (4)</td>\n",
       "      <td>1st</td>\n",
       "      <td>6</td>\n",
       "      <td>0.100000</td>\n",
       "      <td>0.297872</td>\n",
       "    </tr>\n",
       "  </tbody>\n",
       "</table>\n",
       "</div>"
      ],
      "text/plain": [
       "       race date       horse_name  horse_age  bha_rating  draw  \\\n",
       "1328  05/12/2018  Star Attraction        3.0   -1.772146     8   \n",
       "1499  04/12/2018   Decision Maker        4.0    0.370331     6   \n",
       "1281  05/12/2018            Ready        4.0    0.184029     4   \n",
       "874   07/12/2018          Jawwaal        3.0    0.991339    13   \n",
       "1553  04/12/2018      Crosse Fire        6.0    0.680835     1   \n",
       "\n",
       "         trainer_name        jockey_name  prize money 1       course name  \\\n",
       "1328  David Menuisier  Richard Kingscote           3752         LINGFIELD   \n",
       "1499      Roy Bowring         Eoin Walsh           3752   SOUTHWELL (A.W)   \n",
       "1281   Mark Pattinson         Kieren Fox           3105         LINGFIELD   \n",
       "874       John Gosden      Andrea Atzeni          62250  NEWMARKET (JULY)   \n",
       "1553      Scott Dixon        Luke Morris           5531   SOUTHWELL (A.W)   \n",
       "\n",
       "     race_age                                         race_title Qaurter  \\\n",
       "1328     3YO+  BETFRED \"TREBLE ODDS ON LUCKY 15'S\" FILLIES' N...     1st   \n",
       "1499     4YO+                           TOTEQUADPOT HANDICAP (5)     1st   \n",
       "1281     4YO+  BETFRED \"FOLLOW US ON TWITTER\" HANDICAP (DIV I...     1st   \n",
       "874       3YO                                BET365 HANDICAP (2)     2nd   \n",
       "1553     3YO+                          TOTETRIFECTA HANDICAP (4)     1st   \n",
       "\n",
       "      race distance      odds  horse_weight  \n",
       "1328              6  0.040000      0.468085  \n",
       "1499              5  0.071429      0.340426  \n",
       "1281             10  0.083333      0.468085  \n",
       "874               6  0.142857      0.255319  \n",
       "1553              6  0.100000      0.297872  "
      ]
     },
     "execution_count": 24,
     "metadata": {},
     "output_type": "execute_result"
    }
   ],
   "source": [
    "X_train.head(5)"
   ]
  },
  {
   "cell_type": "code",
   "execution_count": 25,
   "metadata": {},
   "outputs": [
    {
     "data": {
      "text/html": [
       "<div>\n",
       "<style scoped>\n",
       "    .dataframe tbody tr th:only-of-type {\n",
       "        vertical-align: middle;\n",
       "    }\n",
       "\n",
       "    .dataframe tbody tr th {\n",
       "        vertical-align: top;\n",
       "    }\n",
       "\n",
       "    .dataframe thead th {\n",
       "        text-align: right;\n",
       "    }\n",
       "</style>\n",
       "<table border=\"1\" class=\"dataframe\">\n",
       "  <thead>\n",
       "    <tr style=\"text-align: right;\">\n",
       "      <th></th>\n",
       "      <th>race date</th>\n",
       "      <th>horse_name</th>\n",
       "      <th>horse_age</th>\n",
       "      <th>bha_rating</th>\n",
       "      <th>draw</th>\n",
       "      <th>trainer_name</th>\n",
       "      <th>jockey_name</th>\n",
       "      <th>prize money 1</th>\n",
       "      <th>course name</th>\n",
       "      <th>race_age</th>\n",
       "      <th>race_title</th>\n",
       "      <th>Qaurter</th>\n",
       "      <th>race distance</th>\n",
       "      <th>odds</th>\n",
       "      <th>horse_weight</th>\n",
       "    </tr>\n",
       "  </thead>\n",
       "  <tbody>\n",
       "    <tr>\n",
       "      <th>596</th>\n",
       "      <td>08/12/2018</td>\n",
       "      <td>Eben Dubai</td>\n",
       "      <td>6.0</td>\n",
       "      <td>-0.188576</td>\n",
       "      <td>11</td>\n",
       "      <td>John Flint</td>\n",
       "      <td>Miss Arabella Tucker</td>\n",
       "      <td>3619</td>\n",
       "      <td>WINDSOR</td>\n",
       "      <td>4YO+</td>\n",
       "      <td>STARSPORTS.BET AMATEUR RIDERS' HANDICAP (5)</td>\n",
       "      <td>2nd</td>\n",
       "      <td>11</td>\n",
       "      <td>0.071429</td>\n",
       "      <td>0.319149</td>\n",
       "    </tr>\n",
       "    <tr>\n",
       "      <th>972</th>\n",
       "      <td>06/12/2018</td>\n",
       "      <td>Avocadeau</td>\n",
       "      <td>7.0</td>\n",
       "      <td>-0.033324</td>\n",
       "      <td>6</td>\n",
       "      <td>Stuart Kittow</td>\n",
       "      <td>Martin Dwyer</td>\n",
       "      <td>4722</td>\n",
       "      <td>SALISBURY</td>\n",
       "      <td>4YO+</td>\n",
       "      <td>ROA/RACING POST OWNERS' JACKPOT HANDICAP (5)</td>\n",
       "      <td>1st</td>\n",
       "      <td>12</td>\n",
       "      <td>0.083333</td>\n",
       "      <td>0.446809</td>\n",
       "    </tr>\n",
       "    <tr>\n",
       "      <th>1470</th>\n",
       "      <td>05/12/2018</td>\n",
       "      <td>My Distant Murphy</td>\n",
       "      <td>4.0</td>\n",
       "      <td>-0.343828</td>\n",
       "      <td>10</td>\n",
       "      <td>Jacqueline Coward</td>\n",
       "      <td>Toby Eley</td>\n",
       "      <td>3235</td>\n",
       "      <td>NOTTINGHAM</td>\n",
       "      <td>4YO+</td>\n",
       "      <td>GENTING CASINO ROULETTE APPRENTICE HANDICAP (R...</td>\n",
       "      <td>1st</td>\n",
       "      <td>8</td>\n",
       "      <td>0.020000</td>\n",
       "      <td>0.170213</td>\n",
       "    </tr>\n",
       "    <tr>\n",
       "      <th>227</th>\n",
       "      <td>10/12/2018</td>\n",
       "      <td>Inclyne</td>\n",
       "      <td>2.0</td>\n",
       "      <td>-1.772146</td>\n",
       "      <td>5</td>\n",
       "      <td>Andrew Balding</td>\n",
       "      <td>Oisin Murphy</td>\n",
       "      <td>7763</td>\n",
       "      <td>NEWMARKET</td>\n",
       "      <td>2YO</td>\n",
       "      <td>GODOLPHIN UNDER STARTERS ORDERS MAIDEN FILLIES...</td>\n",
       "      <td>3rd</td>\n",
       "      <td>7</td>\n",
       "      <td>0.142857</td>\n",
       "      <td>0.361702</td>\n",
       "    </tr>\n",
       "    <tr>\n",
       "      <th>1144</th>\n",
       "      <td>06/12/2018</td>\n",
       "      <td>Be Like Me</td>\n",
       "      <td>2.0</td>\n",
       "      <td>-1.772146</td>\n",
       "      <td>1</td>\n",
       "      <td>Marco Botti</td>\n",
       "      <td>Antonio Fresu</td>\n",
       "      <td>3752</td>\n",
       "      <td>LINGFIELD (A.W)</td>\n",
       "      <td>2YO</td>\n",
       "      <td>ENHANCED WORLD CUP SPECIALS AT 188BET FILLIES'...</td>\n",
       "      <td>1st</td>\n",
       "      <td>6</td>\n",
       "      <td>0.083333</td>\n",
       "      <td>0.361702</td>\n",
       "    </tr>\n",
       "  </tbody>\n",
       "</table>\n",
       "</div>"
      ],
      "text/plain": [
       "       race date         horse_name  horse_age  bha_rating  draw  \\\n",
       "596   08/12/2018         Eben Dubai        6.0   -0.188576    11   \n",
       "972   06/12/2018          Avocadeau        7.0   -0.033324     6   \n",
       "1470  05/12/2018  My Distant Murphy        4.0   -0.343828    10   \n",
       "227   10/12/2018            Inclyne        2.0   -1.772146     5   \n",
       "1144  06/12/2018         Be Like Me        2.0   -1.772146     1   \n",
       "\n",
       "           trainer_name           jockey_name  prize money 1      course name  \\\n",
       "596          John Flint  Miss Arabella Tucker           3619          WINDSOR   \n",
       "972       Stuart Kittow          Martin Dwyer           4722        SALISBURY   \n",
       "1470  Jacqueline Coward             Toby Eley           3235       NOTTINGHAM   \n",
       "227      Andrew Balding          Oisin Murphy           7763        NEWMARKET   \n",
       "1144        Marco Botti         Antonio Fresu           3752  LINGFIELD (A.W)   \n",
       "\n",
       "     race_age                                         race_title Qaurter  \\\n",
       "596      4YO+        STARSPORTS.BET AMATEUR RIDERS' HANDICAP (5)     2nd   \n",
       "972      4YO+       ROA/RACING POST OWNERS' JACKPOT HANDICAP (5)     1st   \n",
       "1470     4YO+  GENTING CASINO ROULETTE APPRENTICE HANDICAP (R...     1st   \n",
       "227       2YO  GODOLPHIN UNDER STARTERS ORDERS MAIDEN FILLIES...     3rd   \n",
       "1144      2YO  ENHANCED WORLD CUP SPECIALS AT 188BET FILLIES'...     1st   \n",
       "\n",
       "      race distance      odds  horse_weight  \n",
       "596              11  0.071429      0.319149  \n",
       "972              12  0.083333      0.446809  \n",
       "1470              8  0.020000      0.170213  \n",
       "227               7  0.142857      0.361702  \n",
       "1144              6  0.083333      0.361702  "
      ]
     },
     "execution_count": 25,
     "metadata": {},
     "output_type": "execute_result"
    }
   ],
   "source": [
    "X_test.head(5)"
   ]
  },
  {
   "cell_type": "markdown",
   "metadata": {},
   "source": [
    "## One-hot encoding"
   ]
  },
  {
   "cell_type": "markdown",
   "metadata": {},
   "source": [
    "4a. Apply one-hot encoding on race age (which is a categorical column) in the train and test dataset"
   ]
  },
  {
   "cell_type": "code",
   "execution_count": 26,
   "metadata": {},
   "outputs": [],
   "source": [
    "from sklearn.preprocessing import OneHotEncoder\n",
    "\n",
    "encoder=OneHotEncoder()\n",
    "\n",
    "encoder.fit(X_train[[\"race_age\"]])\n",
    "\n",
    "race_age_train_encoded =encoder.transform(X_train[[\"race_age\"]])\n",
    "race_age_train_encoded = pd.DataFrame(race_age_train_encoded.toarray(), columns= encoder.get_feature_names_out([\"race_age\"]))\n",
    "race_age_train_encoded.reset_index(drop=True, inplace =True)\n",
    "X_train = pd.concat([X_train, race_age_train_encoded], axis=1).drop([\"race_age\"],axis=1)\n",
    "\n",
    "#encoded=OneHotEncoder()  this is the method\n",
    "#encoder.fit(df[[\"colour\"]])\n",
    "#colour_encoded-encoder.transform(df[[\"colour\"]])\n",
    "#df=colour=pd.dataframe(colour.encoded.....)"
   ]
  },
  {
   "cell_type": "markdown",
   "metadata": {},
   "source": [
    "4c. Show the first five rows of the updated train and test dataframes"
   ]
  },
  {
   "cell_type": "code",
   "execution_count": 27,
   "metadata": {},
   "outputs": [
    {
     "data": {
      "text/html": [
       "<div>\n",
       "<style scoped>\n",
       "    .dataframe tbody tr th:only-of-type {\n",
       "        vertical-align: middle;\n",
       "    }\n",
       "\n",
       "    .dataframe tbody tr th {\n",
       "        vertical-align: top;\n",
       "    }\n",
       "\n",
       "    .dataframe thead th {\n",
       "        text-align: right;\n",
       "    }\n",
       "</style>\n",
       "<table border=\"1\" class=\"dataframe\">\n",
       "  <thead>\n",
       "    <tr style=\"text-align: right;\">\n",
       "      <th></th>\n",
       "      <th>race_age_2YO</th>\n",
       "      <th>race_age_2YO+</th>\n",
       "      <th>race_age_3-4YO</th>\n",
       "      <th>race_age_3-5YO</th>\n",
       "      <th>race_age_3YO</th>\n",
       "      <th>race_age_3YO+</th>\n",
       "      <th>race_age_4YO+</th>\n",
       "    </tr>\n",
       "  </thead>\n",
       "  <tbody>\n",
       "    <tr>\n",
       "      <th>0</th>\n",
       "      <td>0.0</td>\n",
       "      <td>0.0</td>\n",
       "      <td>0.0</td>\n",
       "      <td>0.0</td>\n",
       "      <td>0.0</td>\n",
       "      <td>1.0</td>\n",
       "      <td>0.0</td>\n",
       "    </tr>\n",
       "    <tr>\n",
       "      <th>1</th>\n",
       "      <td>0.0</td>\n",
       "      <td>0.0</td>\n",
       "      <td>0.0</td>\n",
       "      <td>0.0</td>\n",
       "      <td>0.0</td>\n",
       "      <td>0.0</td>\n",
       "      <td>1.0</td>\n",
       "    </tr>\n",
       "    <tr>\n",
       "      <th>2</th>\n",
       "      <td>0.0</td>\n",
       "      <td>0.0</td>\n",
       "      <td>0.0</td>\n",
       "      <td>0.0</td>\n",
       "      <td>0.0</td>\n",
       "      <td>0.0</td>\n",
       "      <td>1.0</td>\n",
       "    </tr>\n",
       "    <tr>\n",
       "      <th>3</th>\n",
       "      <td>0.0</td>\n",
       "      <td>0.0</td>\n",
       "      <td>0.0</td>\n",
       "      <td>0.0</td>\n",
       "      <td>1.0</td>\n",
       "      <td>0.0</td>\n",
       "      <td>0.0</td>\n",
       "    </tr>\n",
       "    <tr>\n",
       "      <th>4</th>\n",
       "      <td>0.0</td>\n",
       "      <td>0.0</td>\n",
       "      <td>0.0</td>\n",
       "      <td>0.0</td>\n",
       "      <td>0.0</td>\n",
       "      <td>1.0</td>\n",
       "      <td>0.0</td>\n",
       "    </tr>\n",
       "  </tbody>\n",
       "</table>\n",
       "</div>"
      ],
      "text/plain": [
       "   race_age_2YO  race_age_2YO+  race_age_3-4YO  race_age_3-5YO  race_age_3YO  \\\n",
       "0           0.0            0.0             0.0             0.0           0.0   \n",
       "1           0.0            0.0             0.0             0.0           0.0   \n",
       "2           0.0            0.0             0.0             0.0           0.0   \n",
       "3           0.0            0.0             0.0             0.0           1.0   \n",
       "4           0.0            0.0             0.0             0.0           0.0   \n",
       "\n",
       "   race_age_3YO+  race_age_4YO+  \n",
       "0            1.0            0.0  \n",
       "1            0.0            1.0  \n",
       "2            0.0            1.0  \n",
       "3            0.0            0.0  \n",
       "4            1.0            0.0  "
      ]
     },
     "execution_count": 27,
     "metadata": {},
     "output_type": "execute_result"
    }
   ],
   "source": [
    "race_age_train_encoded.head(5)"
   ]
  },
  {
   "cell_type": "code",
   "execution_count": null,
   "metadata": {},
   "outputs": [],
   "source": []
  },
  {
   "cell_type": "code",
   "execution_count": null,
   "metadata": {},
   "outputs": [],
   "source": []
  }
 ],
 "metadata": {
  "kernelspec": {
   "display_name": "Python 3 (ipykernel)",
   "language": "python",
   "name": "python3"
  },
  "language_info": {
   "codemirror_mode": {
    "name": "ipython",
    "version": 3
   },
   "file_extension": ".py",
   "mimetype": "text/x-python",
   "name": "python",
   "nbconvert_exporter": "python",
   "pygments_lexer": "ipython3",
   "version": "3.9.13"
  }
 },
 "nbformat": 4,
 "nbformat_minor": 4
}
