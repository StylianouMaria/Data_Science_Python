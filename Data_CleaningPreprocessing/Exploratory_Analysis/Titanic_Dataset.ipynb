{
 "cells": [
  {
   "cell_type": "markdown",
   "id": "9643bfad",
   "metadata": {},
   "source": [
    "# Data visualisations\n"
   ]
  },
  {
   "cell_type": "markdown",
   "id": "62733847",
   "metadata": {},
   "source": [
    "## Dataset description\n",
    "\n",
    "We will be using the dataset in the file `TitanicData.csv` for this homework, which contains passenger information from the Titanic's first and last trip.\n",
    "\n",
    "The columns are:\n",
    "* PassengerId\n",
    "* Survived (1: yes, 0: no)\n",
    "* Pclass (booking class: can be 1, 2 or 3)\n",
    "* Name\n",
    "* Sex (can be male or female)\n",
    "* Age\n",
    "* SibSp (number of accompanying siblings and spouse)\n",
    "* Parch (number of accompanying parents and children)\n",
    "* Ticket reference (e.g. PC 17599)\n",
    "* Fare (cost)\n",
    "* Cabin (e.g. C85)\n",
    "* Embarked (where passengers embarked from: Southampton (S), Cherbourg (C), and Queenstown (Q))\n",
    "\n",
    "Firstly, the necessary packages are imported (make sure you run the cell):"
   ]
  },
  {
   "cell_type": "code",
   "execution_count": 1,
   "id": "ec9ef579",
   "metadata": {},
   "outputs": [],
   "source": [
    "import pandas as pd\n",
    "import matplotlib.pyplot as plt\n",
    "import numpy as np\n",
    "import seaborn as sns"
   ]
  },
  {
   "cell_type": "markdown",
   "id": "854e8151",
   "metadata": {},
   "source": [
    "## Load and explore the data"
   ]
  },
  {
   "cell_type": "markdown",
   "id": "3dea2c1e",
   "metadata": {},
   "source": [
    "1.a. Load the `TitanicData.csv` file into a DataFrame using pandas and have a look at the first few lines"
   ]
  },
  {
   "cell_type": "code",
   "execution_count": 2,
   "id": "7e2bf536",
   "metadata": {},
   "outputs": [
    {
     "data": {
      "text/html": [
       "<div>\n",
       "<style scoped>\n",
       "    .dataframe tbody tr th:only-of-type {\n",
       "        vertical-align: middle;\n",
       "    }\n",
       "\n",
       "    .dataframe tbody tr th {\n",
       "        vertical-align: top;\n",
       "    }\n",
       "\n",
       "    .dataframe thead th {\n",
       "        text-align: right;\n",
       "    }\n",
       "</style>\n",
       "<table border=\"1\" class=\"dataframe\">\n",
       "  <thead>\n",
       "    <tr style=\"text-align: right;\">\n",
       "      <th></th>\n",
       "      <th>PassengerId</th>\n",
       "      <th>Survived</th>\n",
       "      <th>Pclass</th>\n",
       "      <th>Name</th>\n",
       "      <th>Sex</th>\n",
       "      <th>Age</th>\n",
       "      <th>SibSp</th>\n",
       "      <th>Parch</th>\n",
       "      <th>Ticket</th>\n",
       "      <th>Fare</th>\n",
       "      <th>Cabin</th>\n",
       "      <th>Embarked</th>\n",
       "    </tr>\n",
       "  </thead>\n",
       "  <tbody>\n",
       "    <tr>\n",
       "      <th>0</th>\n",
       "      <td>1</td>\n",
       "      <td>0</td>\n",
       "      <td>3</td>\n",
       "      <td>Braund, Mr. Owen Harris</td>\n",
       "      <td>male</td>\n",
       "      <td>22.0</td>\n",
       "      <td>1</td>\n",
       "      <td>0</td>\n",
       "      <td>A/5 21171</td>\n",
       "      <td>7.2500</td>\n",
       "      <td>NaN</td>\n",
       "      <td>S</td>\n",
       "    </tr>\n",
       "    <tr>\n",
       "      <th>1</th>\n",
       "      <td>2</td>\n",
       "      <td>1</td>\n",
       "      <td>1</td>\n",
       "      <td>Cumings, Mrs. John Bradley (Florence Briggs Th...</td>\n",
       "      <td>female</td>\n",
       "      <td>38.0</td>\n",
       "      <td>1</td>\n",
       "      <td>0</td>\n",
       "      <td>PC 17599</td>\n",
       "      <td>71.2833</td>\n",
       "      <td>C85</td>\n",
       "      <td>C</td>\n",
       "    </tr>\n",
       "    <tr>\n",
       "      <th>2</th>\n",
       "      <td>3</td>\n",
       "      <td>1</td>\n",
       "      <td>3</td>\n",
       "      <td>Heikkinen, Miss. Laina</td>\n",
       "      <td>female</td>\n",
       "      <td>26.0</td>\n",
       "      <td>0</td>\n",
       "      <td>0</td>\n",
       "      <td>STON/O2. 3101282</td>\n",
       "      <td>7.9250</td>\n",
       "      <td>NaN</td>\n",
       "      <td>S</td>\n",
       "    </tr>\n",
       "    <tr>\n",
       "      <th>3</th>\n",
       "      <td>4</td>\n",
       "      <td>1</td>\n",
       "      <td>1</td>\n",
       "      <td>Futrelle, Mrs. Jacques Heath (Lily May Peel)</td>\n",
       "      <td>female</td>\n",
       "      <td>35.0</td>\n",
       "      <td>1</td>\n",
       "      <td>0</td>\n",
       "      <td>113803</td>\n",
       "      <td>53.1000</td>\n",
       "      <td>C123</td>\n",
       "      <td>S</td>\n",
       "    </tr>\n",
       "    <tr>\n",
       "      <th>4</th>\n",
       "      <td>5</td>\n",
       "      <td>0</td>\n",
       "      <td>3</td>\n",
       "      <td>Allen, Mr. William Henry</td>\n",
       "      <td>male</td>\n",
       "      <td>35.0</td>\n",
       "      <td>0</td>\n",
       "      <td>0</td>\n",
       "      <td>373450</td>\n",
       "      <td>8.0500</td>\n",
       "      <td>NaN</td>\n",
       "      <td>S</td>\n",
       "    </tr>\n",
       "  </tbody>\n",
       "</table>\n",
       "</div>"
      ],
      "text/plain": [
       "   PassengerId  Survived  Pclass  \\\n",
       "0            1         0       3   \n",
       "1            2         1       1   \n",
       "2            3         1       3   \n",
       "3            4         1       1   \n",
       "4            5         0       3   \n",
       "\n",
       "                                                Name     Sex   Age  SibSp  \\\n",
       "0                            Braund, Mr. Owen Harris    male  22.0      1   \n",
       "1  Cumings, Mrs. John Bradley (Florence Briggs Th...  female  38.0      1   \n",
       "2                             Heikkinen, Miss. Laina  female  26.0      0   \n",
       "3       Futrelle, Mrs. Jacques Heath (Lily May Peel)  female  35.0      1   \n",
       "4                           Allen, Mr. William Henry    male  35.0      0   \n",
       "\n",
       "   Parch            Ticket     Fare Cabin Embarked  \n",
       "0      0         A/5 21171   7.2500   NaN        S  \n",
       "1      0          PC 17599  71.2833   C85        C  \n",
       "2      0  STON/O2. 3101282   7.9250   NaN        S  \n",
       "3      0            113803  53.1000  C123        S  \n",
       "4      0            373450   8.0500   NaN        S  "
      ]
     },
     "execution_count": 2,
     "metadata": {},
     "output_type": "execute_result"
    }
   ],
   "source": [
    "df = pd.read_csv(\"TitanicData.csv\")\n",
    "df.head()"
   ]
  },
  {
   "cell_type": "markdown",
   "id": "6fcae053",
   "metadata": {},
   "source": [
    "1.b. Call the `describe` method on the DataFrame to conduct some quick statistical analysis on the data, and take a look at the results. Can you answer the following questions?\n",
    "* How many rows of data are there?\n",
    "* What was the average age of passenger?\n",
    "* What was the maximum number of accompanying parents and children?"
   ]
  },
  {
   "cell_type": "code",
   "execution_count": 3,
   "id": "867ff365",
   "metadata": {},
   "outputs": [
    {
     "data": {
      "text/html": [
       "<div>\n",
       "<style scoped>\n",
       "    .dataframe tbody tr th:only-of-type {\n",
       "        vertical-align: middle;\n",
       "    }\n",
       "\n",
       "    .dataframe tbody tr th {\n",
       "        vertical-align: top;\n",
       "    }\n",
       "\n",
       "    .dataframe thead th {\n",
       "        text-align: right;\n",
       "    }\n",
       "</style>\n",
       "<table border=\"1\" class=\"dataframe\">\n",
       "  <thead>\n",
       "    <tr style=\"text-align: right;\">\n",
       "      <th></th>\n",
       "      <th>PassengerId</th>\n",
       "      <th>Survived</th>\n",
       "      <th>Pclass</th>\n",
       "      <th>Age</th>\n",
       "      <th>SibSp</th>\n",
       "      <th>Parch</th>\n",
       "      <th>Fare</th>\n",
       "    </tr>\n",
       "  </thead>\n",
       "  <tbody>\n",
       "    <tr>\n",
       "      <th>count</th>\n",
       "      <td>891.000000</td>\n",
       "      <td>891.000000</td>\n",
       "      <td>891.000000</td>\n",
       "      <td>714.000000</td>\n",
       "      <td>891.000000</td>\n",
       "      <td>891.000000</td>\n",
       "      <td>891.000000</td>\n",
       "    </tr>\n",
       "    <tr>\n",
       "      <th>mean</th>\n",
       "      <td>446.000000</td>\n",
       "      <td>0.383838</td>\n",
       "      <td>2.308642</td>\n",
       "      <td>29.699118</td>\n",
       "      <td>0.523008</td>\n",
       "      <td>0.381594</td>\n",
       "      <td>32.204208</td>\n",
       "    </tr>\n",
       "    <tr>\n",
       "      <th>std</th>\n",
       "      <td>257.353842</td>\n",
       "      <td>0.486592</td>\n",
       "      <td>0.836071</td>\n",
       "      <td>14.526497</td>\n",
       "      <td>1.102743</td>\n",
       "      <td>0.806057</td>\n",
       "      <td>49.693429</td>\n",
       "    </tr>\n",
       "    <tr>\n",
       "      <th>min</th>\n",
       "      <td>1.000000</td>\n",
       "      <td>0.000000</td>\n",
       "      <td>1.000000</td>\n",
       "      <td>0.420000</td>\n",
       "      <td>0.000000</td>\n",
       "      <td>0.000000</td>\n",
       "      <td>0.000000</td>\n",
       "    </tr>\n",
       "    <tr>\n",
       "      <th>25%</th>\n",
       "      <td>223.500000</td>\n",
       "      <td>0.000000</td>\n",
       "      <td>2.000000</td>\n",
       "      <td>20.125000</td>\n",
       "      <td>0.000000</td>\n",
       "      <td>0.000000</td>\n",
       "      <td>7.910400</td>\n",
       "    </tr>\n",
       "    <tr>\n",
       "      <th>50%</th>\n",
       "      <td>446.000000</td>\n",
       "      <td>0.000000</td>\n",
       "      <td>3.000000</td>\n",
       "      <td>28.000000</td>\n",
       "      <td>0.000000</td>\n",
       "      <td>0.000000</td>\n",
       "      <td>14.454200</td>\n",
       "    </tr>\n",
       "    <tr>\n",
       "      <th>75%</th>\n",
       "      <td>668.500000</td>\n",
       "      <td>1.000000</td>\n",
       "      <td>3.000000</td>\n",
       "      <td>38.000000</td>\n",
       "      <td>1.000000</td>\n",
       "      <td>0.000000</td>\n",
       "      <td>31.000000</td>\n",
       "    </tr>\n",
       "    <tr>\n",
       "      <th>max</th>\n",
       "      <td>891.000000</td>\n",
       "      <td>1.000000</td>\n",
       "      <td>3.000000</td>\n",
       "      <td>80.000000</td>\n",
       "      <td>8.000000</td>\n",
       "      <td>6.000000</td>\n",
       "      <td>512.329200</td>\n",
       "    </tr>\n",
       "  </tbody>\n",
       "</table>\n",
       "</div>"
      ],
      "text/plain": [
       "       PassengerId    Survived      Pclass         Age       SibSp  \\\n",
       "count   891.000000  891.000000  891.000000  714.000000  891.000000   \n",
       "mean    446.000000    0.383838    2.308642   29.699118    0.523008   \n",
       "std     257.353842    0.486592    0.836071   14.526497    1.102743   \n",
       "min       1.000000    0.000000    1.000000    0.420000    0.000000   \n",
       "25%     223.500000    0.000000    2.000000   20.125000    0.000000   \n",
       "50%     446.000000    0.000000    3.000000   28.000000    0.000000   \n",
       "75%     668.500000    1.000000    3.000000   38.000000    1.000000   \n",
       "max     891.000000    1.000000    3.000000   80.000000    8.000000   \n",
       "\n",
       "            Parch        Fare  \n",
       "count  891.000000  891.000000  \n",
       "mean     0.381594   32.204208  \n",
       "std      0.806057   49.693429  \n",
       "min      0.000000    0.000000  \n",
       "25%      0.000000    7.910400  \n",
       "50%      0.000000   14.454200  \n",
       "75%      0.000000   31.000000  \n",
       "max      6.000000  512.329200  "
      ]
     },
     "execution_count": 3,
     "metadata": {},
     "output_type": "execute_result"
    }
   ],
   "source": [
    "df.describe()"
   ]
  },
  {
   "cell_type": "markdown",
   "id": "218ebc19",
   "metadata": {},
   "source": [
    "If you want to, take a look at this link for the [describe method](https://pandas.pydata.org/docs/reference/api/pandas.DataFrame.describe.html) to read about this method further.\n",
    "\n",
    "Part of what the `describe` method returns are the **quartiles** - these are the columns with `25%` (lower quartile), `50%` (median) and `75%` (upper quartile). Quartiles are the data broken down into quarters, so that 25% of the measurements are less than the lower quartile, 50% are less than the median, and 75% are less than the upper quartile.\n",
    "\n",
    "A boxplot is a way to show the spread and centers of a data set by giving a visual representation of the quartiles. You can find info on plotting boxplots with pandas [here](https://pandas.pydata.org/pandas-docs/stable/reference/api/pandas.DataFrame.boxplot.html)\n",
    "\n",
    "This type of plot is used to easily detect **outliers**. An outlier is an observation point that is distant from other observations. It can also tell us if your data is symmetrical, how tightly your data is grouped, and if and how your data is skewed. Read more on finding outliers from boxplots [here](https://medium.com/@agarwal.vishal819/outlier-detection-with-boxplots-1b6757fafa21)\n",
    "\n",
    "1.c. Plot pandas boxplots from the DataFrame. Can you see any outliers?\n",
    "\n",
    "Hint: You can use the `figsize` keyword argument to set the sizes of the figures. The default size might be a bit too small & not format very well!\n",
    "\n",
    "Hint: You can use the `subplots` keyword argument to set whether the plots are plotted as separate subplots, or on the same plot."
   ]
  },
  {
   "cell_type": "code",
   "execution_count": 4,
   "id": "5ba2563c",
   "metadata": {},
   "outputs": [
    {
     "data": {
      "text/plain": [
       "PassengerId       AxesSubplot(0.125,0.657941;0.227941x0.222059)\n",
       "Survived       AxesSubplot(0.398529,0.657941;0.227941x0.222059)\n",
       "Pclass         AxesSubplot(0.672059,0.657941;0.227941x0.222059)\n",
       "Age               AxesSubplot(0.125,0.391471;0.227941x0.222059)\n",
       "SibSp          AxesSubplot(0.398529,0.391471;0.227941x0.222059)\n",
       "Parch          AxesSubplot(0.672059,0.391471;0.227941x0.222059)\n",
       "Fare                 AxesSubplot(0.125,0.125;0.227941x0.222059)\n",
       "dtype: object"
      ]
     },
     "execution_count": 4,
     "metadata": {},
     "output_type": "execute_result"
    },
    {
     "data": {
      "image/png": "[encoded data removed]",
      "text/plain": [
       "<Figure size 864x576 with 9 Axes>"
      ]
     },
     "metadata": {
      "needs_background": "light"
     },
     "output_type": "display_data"
    }
   ],
   "source": [
    "df.plot(\n",
    "    kind=\"box\",\n",
    "    subplots=True,\n",
    "    layout=(3, 3),\n",
    "    figsize=(12, 8)\n",
    ")"
   ]
  },
  {
   "cell_type": "markdown",
   "id": "7f8c23da",
   "metadata": {},
   "source": [
    "Boxplots can be plotted using the Matplotlib package as well. Here is an example of plotting 3 boxplots on the same graph for the PClass, SibSp and Parch columns:"
   ]
  },
  {
   "cell_type": "code",
   "execution_count": 5,
   "id": "83870124",
   "metadata": {},
   "outputs": [
    {
     "data": {
      "image/png": "[encoded data removed]",
      "text/plain": [
       "<Figure size 320x320 with 1 Axes>"
      ]
     },
     "metadata": {},
     "output_type": "display_data"
    }
   ],
   "source": [
    "fig = plt.figure(figsize=(4, 4), dpi=80, facecolor=\"w\", edgecolor=\"k\")\n",
    "boxplot = df.boxplot(column=[\"Pclass\", \"SibSp\", \"Parch\"])"
   ]
  },
  {
   "cell_type": "markdown",
   "id": "e3170787",
   "metadata": {},
   "source": [
    "1.d. Plot pandas [histograms](https://pandas.pydata.org/docs/reference/api/pandas.DataFrame.hist.html) of all the data for *surviving* passengers. A histogram is a column chart that shows frequency data.\n",
    "\n",
    "Hint: You can filter the DataFrame using a function like `df[df[\"Survived\"] == 1]`\n",
    "\n",
    "Hint: You can use the `figsize` keyword argument to set the sizes of the figures. The default size might be a bit too small & not format very well!"
   ]
  },
  {
   "cell_type": "code",
   "execution_count": 6,
   "id": "d710317b",
   "metadata": {},
   "outputs": [
    {
     "data": {
      "text/plain": [
       "array([[<AxesSubplot:title={'center':'PassengerId'}>,\n",
       "        <AxesSubplot:title={'center':'Survived'}>,\n",
       "        <AxesSubplot:title={'center':'Pclass'}>],\n",
       "       [<AxesSubplot:title={'center':'Age'}>,\n",
       "        <AxesSubplot:title={'center':'SibSp'}>,\n",
       "        <AxesSubplot:title={'center':'Parch'}>],\n",
       "       [<AxesSubplot:title={'center':'Fare'}>, <AxesSubplot:>,\n",
       "        <AxesSubplot:>]], dtype=object)"
      ]
     },
     "execution_count": 6,
     "metadata": {},
     "output_type": "execute_result"
    },
    {
     "data": {
      "image/png": "[encoded data removed]",
      "text/plain": [
       "<Figure size 864x864 with 9 Axes>"
      ]
     },
     "metadata": {
      "needs_background": "light"
     },
     "output_type": "display_data"
    }
   ],
   "source": [
    "df[df[\"Survived\"] == 1].hist(figsize=(12, 12))"
   ]
  },
  {
   "cell_type": "markdown",
   "id": "79ba47a9",
   "metadata": {},
   "source": [
    "# Survival analysis"
   ]
  },
  {
   "cell_type": "markdown",
   "id": "2e17f4b1",
   "metadata": {},
   "source": [
    "Now we have done some exploration of the data, we will try and do some basic analysis on passenger survival.\n",
    "\n",
    "2.a. Complete the code below to plot the distribution of Fare prices (y) among surviving categories against Sex (x) using a [seaborn boxplot](https://seaborn.pydata.org/generated/seaborn.boxplot.html).\n",
    "\n",
    "Take a look at the plot and think about the obtained results!\n",
    "* Where are the quartiles for each boxplot?\n",
    "* What difference does Fare make in how many people survived?\n",
    "\n",
    "Hint: use the `hue` keyword argument to plot multiple boxplots for each category in a column with different colours (e.g. Survived)."
   ]
  },
  {
   "cell_type": "code",
   "execution_count": 7,
   "id": "af28ac1f",
   "metadata": {},
   "outputs": [
    {
     "data": {
      "text/plain": [
       "(0.0, 100.0)"
      ]
     },
     "execution_count": 7,
     "metadata": {},
     "output_type": "execute_result"
    },
    {
     "data": {
      "image/png": "[encoded data removed]",
      "text/plain": [
       "<Figure size 432x288 with 1 Axes>"
      ]
     },
     "metadata": {
      "needs_background": "light"
     },
     "output_type": "display_data"
    }
   ],
   "source": [
    "sns.boxplot(x=\"Sex\", y=\"Fare\", data=df, hue=\"Survived\")\n",
    "plt.ylim(0, 100)"
   ]
  },
  {
   "cell_type": "markdown",
   "id": "9c5831c8",
   "metadata": {},
   "source": [
    "2b. Use a [seaborn countplot](https://seaborn.pydata.org/generated/seaborn.countplot.html) to check the count of survival among male and female passengers."
   ]
  },
  {
   "cell_type": "code",
   "execution_count": 8,
   "id": "05618a74",
   "metadata": {},
   "outputs": [
    {
     "data": {
      "text/plain": [
       "<AxesSubplot:xlabel='Sex', ylabel='count'>"
      ]
     },
     "execution_count": 8,
     "metadata": {},
     "output_type": "execute_result"
    },
    {
     "data": {
      "image/png": "[encoded data removed]",
      "text/plain": [
       "<Figure size 432x288 with 1 Axes>"
      ]
     },
     "metadata": {
      "needs_background": "light"
     },
     "output_type": "display_data"
    }
   ],
   "source": [
    "sns.countplot(x=\"Sex\", hue=\"Survived\", data=df)"
   ]
  },
  {
   "cell_type": "markdown",
   "id": "16ee7cdc",
   "metadata": {},
   "source": [
    "2c. Use a [seaborn countplot](https://seaborn.pydata.org/generated/seaborn.countplot.html) to check the count of survival among the 3 booking classes."
   ]
  },
  {
   "cell_type": "code",
   "execution_count": 9,
   "id": "ff01d52a",
   "metadata": {},
   "outputs": [
    {
     "data": {
      "text/plain": [
       "<AxesSubplot:xlabel='Pclass', ylabel='count'>"
      ]
     },
     "execution_count": 9,
     "metadata": {},
     "output_type": "execute_result"
    },
    {
     "data": {
      "image/png": "[encoded data removed]",
      "text/plain": [
       "<Figure size 432x288 with 1 Axes>"
      ]
     },
     "metadata": {
      "needs_background": "light"
     },
     "output_type": "display_data"
    }
   ],
   "source": [
    "sns.countplot(x=\"Pclass\", hue=\"Survived\", data=df)"
   ]
  },
  {
   "cell_type": "markdown",
   "id": "578e6362",
   "metadata": {},
   "source": [
    "2d. Use a [seaborn countplot](https://seaborn.pydata.org/generated/seaborn.countplot.html) to check the count of survival among the 3 embarkment places."
   ]
  },
  {
   "cell_type": "code",
   "execution_count": 10,
   "id": "b029d4f8",
   "metadata": {},
   "outputs": [
    {
     "data": {
      "text/plain": [
       "<AxesSubplot:xlabel='Embarked', ylabel='count'>"
      ]
     },
     "execution_count": 10,
     "metadata": {},
     "output_type": "execute_result"
    },
    {
     "data": {
      "image/png": "[encoded data removed]",
      "text/plain": [
       "<Figure size 432x288 with 1 Axes>"
      ]
     },
     "metadata": {
      "needs_background": "light"
     },
     "output_type": "display_data"
    }
   ],
   "source": [
    "sns.countplot(x=\"Embarked\", hue=\"Survived\", data=df)"
   ]
  },
  {
   "cell_type": "markdown",
   "id": "0b78da00",
   "metadata": {},
   "source": [
    "Finally, we'll try and compute some percentage statistics of survival in different categories.\n",
    "\n",
    "We will use the DataFrame `loc` method, which allows us to filter data from a DataFrame.\n",
    "\n",
    "To calculate the percentage of surviving women, we can do the following:"
   ]
  },
  {
   "cell_type": "code",
   "execution_count": 15,
   "id": "8f5046ad",
   "metadata": {},
   "outputs": [
    {
     "name": "stdout",
     "output_type": "stream",
     "text": [
      "% of women who survived: 74.20382165605095\n"
     ]
    }
   ],
   "source": [
    "women = df.loc[df.Sex == \"female\"][\"Survived\"]\n",
    "rate_women = (sum(women) / len(women)) * 100\n",
    "print(\"% of women who survived:\", rate_women)"
   ]
  },
  {
   "cell_type": "markdown",
   "id": "36e4b676",
   "metadata": {},
   "source": [
    "2e. In the following cells, calculate the percentages of:\n",
    "* surviving men\n",
    "* surviving women who embarked from Cherbourg (hint: use the `&` symbol as a conditional operator within the `loc` method)\n",
    "* surviving women from 1st class\n",
    "* surviving men from each class (hint: to split a DataFrame out by category, use the `groupby` method. You can also use the `sum` and `count` methods on a DataFrame)"
   ]
  },
  {
   "cell_type": "code",
   "execution_count": 11,
   "id": "b6513476",
   "metadata": {},
   "outputs": [
    {
     "name": "stdout",
     "output_type": "stream",
     "text": [
      "% of men who survived: 18.890814558058924\n"
     ]
    }
   ],
   "source": [
    "men = df.loc[df.Sex == \"male\"][\"Survived\"]\n",
    "rate_men = (sum(men) / len(men)) * 100\n",
    "print(\"% of men who survived:\", rate_men)"
   ]
  },
  {
   "cell_type": "code",
   "execution_count": 13,
   "id": "3f6629f3",
   "metadata": {},
   "outputs": [
    {
     "name": "stdout",
     "output_type": "stream",
     "text": [
      "% of women who survived from Cherbourg: 87.67123287671232\n"
     ]
    }
   ],
   "source": [
    "women_cherbourg = df.loc[(df.Sex == \"female\") & (df.Embarked == \"C\")][\"Survived\"]\n",
    "rate_women_cherbourg = (sum(women_cherbourg) / len(women_cherbourg)) * 100\n",
    "print(\"% of women who survived from Cherbourg:\", rate_women_cherbourg)"
   ]
  },
  {
   "cell_type": "code",
   "execution_count": 14,
   "id": "30f95be8",
   "metadata": {},
   "outputs": [
    {
     "name": "stdout",
     "output_type": "stream",
     "text": [
      "% of women who survived in 1st Class: 96.80851063829788\n"
     ]
    }
   ],
   "source": [
    "women_first = df.loc[(df.Sex == \"female\") & (df.Pclass == 1)][\"Survived\"]\n",
    "rate_women_first = (sum(women_first) / len(women_first)) * 100\n",
    "print(\"% of women who survived in 1st Class:\", rate_women_first)"
   ]
  },
  {
   "cell_type": "code",
   "execution_count": 16,
   "id": "d2414a53",
   "metadata": {},
   "outputs": [
    {
     "name": "stdout",
     "output_type": "stream",
     "text": [
      "% of men who survived in each class: Pclass\n",
      "1    36.885246\n",
      "2    15.740741\n",
      "3    13.544669\n",
      "dtype: float64\n"
     ]
    }
   ],
   "source": [
    "men_survived = df.loc[df.Sex == \"male\"][\"Survived\"].groupby(df[\"Pclass\"]).sum()\n",
    "men_total = df.loc[df.Sex == \"male\"][\"PassengerId\"].groupby(df[\"Pclass\"]).count()\n",
    "print(\"% of men who survived in each class:\", men_survived * 100 / men_total)"
   ]
  },
  {
   "cell_type": "markdown",
   "id": "c6ff0f70",
   "metadata": {},
   "source": []
  }
 ],
 "metadata": {
  "kernelspec": {
   "display_name": "Python 3 (ipykernel)",
   "language": "python",
   "name": "python3"
  },
  "language_info": {
   "codemirror_mode": {
    "name": "ipython",
    "version": 3
   },
   "file_extension": ".py",
   "mimetype": "text/x-python",
   "name": "python",
   "nbconvert_exporter": "python",
   "pygments_lexer": "ipython3",
   "version": "3.10.10"
  }
 },
 "nbformat": 4,
 "nbformat_minor": 5
}
